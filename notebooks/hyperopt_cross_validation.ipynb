{
 "cells": [
  {
   "cell_type": "markdown",
   "metadata": {},
   "source": [
    "# Using Bayesian Optimization to Perform Cross Validation"
   ]
  },
  {
   "cell_type": "markdown",
   "metadata": {},
   "source": [
    "## Import"
   ]
  },
  {
   "cell_type": "markdown",
   "metadata": {},
   "source": [
    "### Modules"
   ]
  },
  {
   "cell_type": "code",
   "execution_count": 18,
   "metadata": {},
   "outputs": [
    {
     "name": "stdout",
     "output_type": "stream",
     "text": [
      "The autoreload extension is already loaded. To reload it, use:\n",
      "  %reload_ext autoreload\n",
      "The watermark extension is already loaded. To reload it, use:\n",
      "  %reload_ext watermark\n",
      "Last updated: Wed Dec 07 2022\n",
      "\n",
      "Python implementation: CPython\n",
      "Python version       : 3.9.7\n",
      "IPython version      : 7.27.0\n",
      "\n",
      "hyperopt: 0.2.7\n",
      "sys     : 3.9.7 (default, Oct 12 2021, 02:43:43) \n",
      "[GCC 10.2.1 20210110]\n",
      "pandas  : 1.3.3\n",
      "\n",
      "Watermark: 2.3.1\n",
      "\n"
     ]
    }
   ],
   "source": [
    "%load_ext autoreload\n",
    "%autoreload 2\n",
    "%load_ext watermark\n",
    "%watermark -n -u -v -iv -w\n",
    "\n",
    "import sys\n",
    "from pathlib import Path\n",
    "\n",
    "from hyperopt import hp\n",
    "from sklearn.ensemble import RandomForestClassifier\n",
    "from sklearn.model_selection import StratifiedShuffleSplit\n",
    "from sklearn.datasets import load_iris, make_classification\n",
    "from sklearn.decomposition import PCA\n",
    "from sklearn.pipeline import Pipeline\n",
    "import pandas as pd"
   ]
  },
  {
   "cell_type": "markdown",
   "metadata": {},
   "source": [
    "Setup paths"
   ]
  },
  {
   "cell_type": "code",
   "execution_count": 2,
   "metadata": {},
   "outputs": [],
   "source": [
    "PROJECT_ROOT = Path.cwd().resolve().parent\n",
    "sys.path.append(str(PROJECT_ROOT))"
   ]
  },
  {
   "cell_type": "markdown",
   "metadata": {},
   "source": [
    "### Scripts"
   ]
  },
  {
   "cell_type": "code",
   "execution_count": 3,
   "metadata": {},
   "outputs": [],
   "source": [
    "from datatoolkit.model_selection import BayesianSearchCV"
   ]
  },
  {
   "cell_type": "markdown",
   "metadata": {},
   "source": [
    "## Examples"
   ]
  },
  {
   "cell_type": "markdown",
   "metadata": {},
   "source": [
    "### Random Forest Classifier"
   ]
  },
  {
   "cell_type": "markdown",
   "metadata": {},
   "source": [
    "Set parameter spacem, which is a dictionary of hyperparameters and their distributions."
   ]
  },
  {
   "cell_type": "code",
   "execution_count": 4,
   "metadata": {},
   "outputs": [],
   "source": [
    "parameter_space = {\n",
    "    'n_estimators': hp.uniformint('n_estimators', 100, 1000),\n",
    "    'max_depth': hp.uniformint('max_depth', 1, 5),\n",
    "    'min_weight_fraction_leaf':  hp.uniform('min_weight_fraction_leaf', 0, 0.5),\n",
    "    'criterion': hp.choice('criterion', {'gini', 'entropy', 'log_loss'}),\n",
    "            }"
   ]
  },
  {
   "cell_type": "markdown",
   "metadata": {},
   "source": [
    "Set estimator andm cross validation generator"
   ]
  },
  {
   "cell_type": "code",
   "execution_count": 5,
   "metadata": {},
   "outputs": [],
   "source": [
    "\n",
    "estimator = RandomForestClassifier()\n",
    "cv = StratifiedShuffleSplit(n_splits=3, test_size=0.2, random_state=42)"
   ]
  },
  {
   "cell_type": "markdown",
   "metadata": {},
   "source": [
    "Load data"
   ]
  },
  {
   "cell_type": "code",
   "execution_count": 6,
   "metadata": {},
   "outputs": [],
   "source": [
    "X, y = load_iris(return_X_y=True)\n",
    "X = X[:, :2]\n",
    "X = X[y < 2]\n",
    "y = y[y < 2]"
   ]
  },
  {
   "cell_type": "markdown",
   "metadata": {},
   "source": [
    "Cross validate with `BayesianSearchCV`"
   ]
  },
  {
   "cell_type": "code",
   "execution_count": 7,
   "metadata": {},
   "outputs": [
    {
     "name": "stdout",
     "output_type": "stream",
     "text": [
      "100%|██████████| 5/5 [00:19<00:00,  3.90s/trial, best loss: 0.36143540669856444]\n"
     ]
    },
    {
     "data": {
      "text/html": [
       "<style>#sk-container-id-1 {color: black;background-color: white;}#sk-container-id-1 pre{padding: 0;}#sk-container-id-1 div.sk-toggleable {background-color: white;}#sk-container-id-1 label.sk-toggleable__label {cursor: pointer;display: block;width: 100%;margin-bottom: 0;padding: 0.3em;box-sizing: border-box;text-align: center;}#sk-container-id-1 label.sk-toggleable__label-arrow:before {content: \"▸\";float: left;margin-right: 0.25em;color: #696969;}#sk-container-id-1 label.sk-toggleable__label-arrow:hover:before {color: black;}#sk-container-id-1 div.sk-estimator:hover label.sk-toggleable__label-arrow:before {color: black;}#sk-container-id-1 div.sk-toggleable__content {max-height: 0;max-width: 0;overflow: hidden;text-align: left;background-color: #f0f8ff;}#sk-container-id-1 div.sk-toggleable__content pre {margin: 0.2em;color: black;border-radius: 0.25em;background-color: #f0f8ff;}#sk-container-id-1 input.sk-toggleable__control:checked~div.sk-toggleable__content {max-height: 200px;max-width: 100%;overflow: auto;}#sk-container-id-1 input.sk-toggleable__control:checked~label.sk-toggleable__label-arrow:before {content: \"▾\";}#sk-container-id-1 div.sk-estimator input.sk-toggleable__control:checked~label.sk-toggleable__label {background-color: #d4ebff;}#sk-container-id-1 div.sk-label input.sk-toggleable__control:checked~label.sk-toggleable__label {background-color: #d4ebff;}#sk-container-id-1 input.sk-hidden--visually {border: 0;clip: rect(1px 1px 1px 1px);clip: rect(1px, 1px, 1px, 1px);height: 1px;margin: -1px;overflow: hidden;padding: 0;position: absolute;width: 1px;}#sk-container-id-1 div.sk-estimator {font-family: monospace;background-color: #f0f8ff;border: 1px dotted black;border-radius: 0.25em;box-sizing: border-box;margin-bottom: 0.5em;}#sk-container-id-1 div.sk-estimator:hover {background-color: #d4ebff;}#sk-container-id-1 div.sk-parallel-item::after {content: \"\";width: 100%;border-bottom: 1px solid gray;flex-grow: 1;}#sk-container-id-1 div.sk-label:hover label.sk-toggleable__label {background-color: #d4ebff;}#sk-container-id-1 div.sk-serial::before {content: \"\";position: absolute;border-left: 1px solid gray;box-sizing: border-box;top: 0;bottom: 0;left: 50%;z-index: 0;}#sk-container-id-1 div.sk-serial {display: flex;flex-direction: column;align-items: center;background-color: white;padding-right: 0.2em;padding-left: 0.2em;position: relative;}#sk-container-id-1 div.sk-item {position: relative;z-index: 1;}#sk-container-id-1 div.sk-parallel {display: flex;align-items: stretch;justify-content: center;background-color: white;position: relative;}#sk-container-id-1 div.sk-item::before, #sk-container-id-1 div.sk-parallel-item::before {content: \"\";position: absolute;border-left: 1px solid gray;box-sizing: border-box;top: 0;bottom: 0;left: 50%;z-index: -1;}#sk-container-id-1 div.sk-parallel-item {display: flex;flex-direction: column;z-index: 1;position: relative;background-color: white;}#sk-container-id-1 div.sk-parallel-item:first-child::after {align-self: flex-end;width: 50%;}#sk-container-id-1 div.sk-parallel-item:last-child::after {align-self: flex-start;width: 50%;}#sk-container-id-1 div.sk-parallel-item:only-child::after {width: 0;}#sk-container-id-1 div.sk-dashed-wrapped {border: 1px dashed gray;margin: 0 0.4em 0.5em 0.4em;box-sizing: border-box;padding-bottom: 0.4em;background-color: white;}#sk-container-id-1 div.sk-label label {font-family: monospace;font-weight: bold;display: inline-block;line-height: 1.2em;}#sk-container-id-1 div.sk-label-container {text-align: center;}#sk-container-id-1 div.sk-container {/* jupyter's `normalize.less` sets `[hidden] { display: none; }` but bootstrap.min.css set `[hidden] { display: none !important; }` so we also need the `!important` here to be able to override the default hidden behavior on the sphinx rendered scikit-learn.org. See: https://github.com/scikit-learn/scikit-learn/issues/21755 */display: inline-block !important;position: relative;}#sk-container-id-1 div.sk-text-repr-fallback {display: none;}</style><div id=\"sk-container-id-1\" class=\"sk-top-container\"><div class=\"sk-text-repr-fallback\"><pre>BayesianSearchCV(cv=StratifiedShuffleSplit(n_splits=3, random_state=42, test_size=0.2,\n",
       "            train_size=None),\n",
       "                 estimator=RandomForestClassifier(criterion=&#x27;entropy&#x27;,\n",
       "                                                  max_depth=4,\n",
       "                                                  min_weight_fraction_leaf=0.05105404992997109,\n",
       "                                                  n_estimators=972),\n",
       "                 n_iter=5,\n",
       "                 parameter_space={&#x27;criterion&#x27;: &lt;hyperopt.pyll.base.Apply object at 0x7fbe39957430&gt;,\n",
       "                                  &#x27;max_depth&#x27;: &lt;hyperopt.pyll.base.Apply object at 0x7fbe39957040&gt;,\n",
       "                                  &#x27;min_weight_fraction_leaf&#x27;: &lt;hyperopt.pyll.base.Apply object at 0x7fbe399575b0&gt;,\n",
       "                                  &#x27;n_estimators&#x27;: &lt;hyperopt.pyll.base.Apply object at 0x7fbe39957dc0&gt;},\n",
       "                 refit=&#x27;f1_score&#x27;, scoring=[&#x27;f1_score&#x27;, &#x27;roc_auc_score&#x27;])</pre><b>In a Jupyter environment, please rerun this cell to show the HTML representation or trust the notebook. <br />On GitHub, the HTML representation is unable to render, please try loading this page with nbviewer.org.</b></div><div class=\"sk-container\" hidden><div class=\"sk-item sk-dashed-wrapped\"><div class=\"sk-label-container\"><div class=\"sk-label sk-toggleable\"><input class=\"sk-toggleable__control sk-hidden--visually\" id=\"sk-estimator-id-1\" type=\"checkbox\" ><label for=\"sk-estimator-id-1\" class=\"sk-toggleable__label sk-toggleable__label-arrow\">BayesianSearchCV</label><div class=\"sk-toggleable__content\"><pre>BayesianSearchCV(cv=StratifiedShuffleSplit(n_splits=3, random_state=42, test_size=0.2,\n",
       "            train_size=None),\n",
       "                 estimator=RandomForestClassifier(criterion=&#x27;entropy&#x27;,\n",
       "                                                  max_depth=4,\n",
       "                                                  min_weight_fraction_leaf=0.05105404992997109,\n",
       "                                                  n_estimators=972),\n",
       "                 n_iter=5,\n",
       "                 parameter_space={&#x27;criterion&#x27;: &lt;hyperopt.pyll.base.Apply object at 0x7fbe39957430&gt;,\n",
       "                                  &#x27;max_depth&#x27;: &lt;hyperopt.pyll.base.Apply object at 0x7fbe39957040&gt;,\n",
       "                                  &#x27;min_weight_fraction_leaf&#x27;: &lt;hyperopt.pyll.base.Apply object at 0x7fbe399575b0&gt;,\n",
       "                                  &#x27;n_estimators&#x27;: &lt;hyperopt.pyll.base.Apply object at 0x7fbe39957dc0&gt;},\n",
       "                 refit=&#x27;f1_score&#x27;, scoring=[&#x27;f1_score&#x27;, &#x27;roc_auc_score&#x27;])</pre></div></div></div><div class=\"sk-parallel\"><div class=\"sk-parallel-item\"><div class=\"sk-item\"><div class=\"sk-label-container\"><div class=\"sk-label sk-toggleable\"><input class=\"sk-toggleable__control sk-hidden--visually\" id=\"sk-estimator-id-2\" type=\"checkbox\" ><label for=\"sk-estimator-id-2\" class=\"sk-toggleable__label sk-toggleable__label-arrow\">estimator: RandomForestClassifier</label><div class=\"sk-toggleable__content\"><pre>RandomForestClassifier(criterion=&#x27;entropy&#x27;, max_depth=4,\n",
       "                       min_weight_fraction_leaf=0.05105404992997109,\n",
       "                       n_estimators=972)</pre></div></div></div><div class=\"sk-serial\"><div class=\"sk-item\"><div class=\"sk-estimator sk-toggleable\"><input class=\"sk-toggleable__control sk-hidden--visually\" id=\"sk-estimator-id-3\" type=\"checkbox\" ><label for=\"sk-estimator-id-3\" class=\"sk-toggleable__label sk-toggleable__label-arrow\">RandomForestClassifier</label><div class=\"sk-toggleable__content\"><pre>RandomForestClassifier(criterion=&#x27;entropy&#x27;, max_depth=4,\n",
       "                       min_weight_fraction_leaf=0.05105404992997109,\n",
       "                       n_estimators=972)</pre></div></div></div></div></div></div></div></div></div></div>"
      ],
      "text/plain": [
       "BayesianSearchCV(cv=StratifiedShuffleSplit(n_splits=3, random_state=42, test_size=0.2,\n",
       "            train_size=None),\n",
       "                 estimator=RandomForestClassifier(criterion='entropy',\n",
       "                                                  max_depth=4,\n",
       "                                                  min_weight_fraction_leaf=0.05105404992997109,\n",
       "                                                  n_estimators=972),\n",
       "                 n_iter=5,\n",
       "                 parameter_space={'criterion': <hyperopt.pyll.base.Apply object at 0x7fbe39957430>,\n",
       "                                  'max_depth': <hyperopt.pyll.base.Apply object at 0x7fbe39957040>,\n",
       "                                  'min_weight_fraction_leaf': <hyperopt.pyll.base.Apply object at 0x7fbe399575b0>,\n",
       "                                  'n_estimators': <hyperopt.pyll.base.Apply object at 0x7fbe39957dc0>},\n",
       "                 refit='f1_score', scoring=['f1_score', 'roc_auc_score'])"
      ]
     },
     "execution_count": 7,
     "metadata": {},
     "output_type": "execute_result"
    }
   ],
   "source": [
    "bs = BayesianSearchCV(estimator=estimator, parameter_space=parameter_space, scoring=[\"f1_score\", \"roc_auc_score\"], refit=\"f1_score\", n_iter=5, cv=cv);\n",
    "bs.fit(X, y)"
   ]
  },
  {
   "cell_type": "markdown",
   "metadata": {},
   "source": [
    "Analyzing results..."
   ]
  },
  {
   "cell_type": "code",
   "execution_count": 8,
   "metadata": {},
   "outputs": [
    {
     "data": {
      "text/html": [
       "<div>\n",
       "<style scoped>\n",
       "    .dataframe tbody tr th:only-of-type {\n",
       "        vertical-align: middle;\n",
       "    }\n",
       "\n",
       "    .dataframe tbody tr th {\n",
       "        vertical-align: top;\n",
       "    }\n",
       "\n",
       "    .dataframe thead th {\n",
       "        text-align: right;\n",
       "    }\n",
       "</style>\n",
       "<table border=\"1\" class=\"dataframe\">\n",
       "  <thead>\n",
       "    <tr style=\"text-align: right;\">\n",
       "      <th></th>\n",
       "      <th>parameters</th>\n",
       "      <th>rank_score</th>\n",
       "      <th>average_val_f1_score</th>\n",
       "    </tr>\n",
       "  </thead>\n",
       "  <tbody>\n",
       "    <tr>\n",
       "      <th>0</th>\n",
       "      <td>{'criterion': 'log_loss', 'max_depth': 4, 'min...</td>\n",
       "      <td>4</td>\n",
       "      <td>0.165641</td>\n",
       "    </tr>\n",
       "    <tr>\n",
       "      <th>1</th>\n",
       "      <td>{'criterion': 'entropy', 'max_depth': 4, 'min_...</td>\n",
       "      <td>1</td>\n",
       "      <td>0.100478</td>\n",
       "    </tr>\n",
       "    <tr>\n",
       "      <th>2</th>\n",
       "      <td>{'criterion': 'log_loss', 'max_depth': 5, 'min...</td>\n",
       "      <td>2</td>\n",
       "      <td>0.151356</td>\n",
       "    </tr>\n",
       "    <tr>\n",
       "      <th>3</th>\n",
       "      <td>{'criterion': 'gini', 'max_depth': 3, 'min_wei...</td>\n",
       "      <td>3</td>\n",
       "      <td>0.155793</td>\n",
       "    </tr>\n",
       "    <tr>\n",
       "      <th>4</th>\n",
       "      <td>{'criterion': 'gini', 'max_depth': 3, 'min_wei...</td>\n",
       "      <td>5</td>\n",
       "      <td>0.178817</td>\n",
       "    </tr>\n",
       "  </tbody>\n",
       "</table>\n",
       "</div>"
      ],
      "text/plain": [
       "                                          parameters  rank_score  \\\n",
       "0  {'criterion': 'log_loss', 'max_depth': 4, 'min...           4   \n",
       "1  {'criterion': 'entropy', 'max_depth': 4, 'min_...           1   \n",
       "2  {'criterion': 'log_loss', 'max_depth': 5, 'min...           2   \n",
       "3  {'criterion': 'gini', 'max_depth': 3, 'min_wei...           3   \n",
       "4  {'criterion': 'gini', 'max_depth': 3, 'min_wei...           5   \n",
       "\n",
       "   average_val_f1_score  \n",
       "0              0.165641  \n",
       "1              0.100478  \n",
       "2              0.151356  \n",
       "3              0.155793  \n",
       "4              0.178817  "
      ]
     },
     "execution_count": 8,
     "metadata": {},
     "output_type": "execute_result"
    }
   ],
   "source": [
    "cv_results_ = pd.DataFrame.from_dict(bs.cv_results_)\n",
    "cv_results_[['parameters', 'rank_score', 'average_val_f1_score']]"
   ]
  },
  {
   "cell_type": "markdown",
   "metadata": {},
   "source": [
    "Check if the best estimator is the same as the estimator with the best parameters."
   ]
  },
  {
   "cell_type": "code",
   "execution_count": 9,
   "metadata": {},
   "outputs": [],
   "source": [
    "assert bs.best_params_ == cv_results_.query(\"rank_score == 1\")['parameters'].values[0]"
   ]
  },
  {
   "cell_type": "markdown",
   "metadata": {},
   "source": [
    "### Cross validating a pipeline"
   ]
  },
  {
   "cell_type": "markdown",
   "metadata": {},
   "source": [
    "Load dataset"
   ]
  },
  {
   "cell_type": "code",
   "execution_count": 17,
   "metadata": {},
   "outputs": [
    {
     "data": {
      "text/plain": [
       "array([0, 0, 0, 1, 0, 1, 1, 0, 1, 0, 1, 1, 1, 1, 1, 1, 0, 1, 1, 1, 1, 1,\n",
       "       1, 0, 1, 0, 0, 1, 0, 1, 0, 1, 0, 1, 1, 0, 1, 1, 0, 1, 0, 0, 1, 0,\n",
       "       1, 0, 1, 0, 0, 1, 1, 0, 0, 0, 0, 0, 0, 0, 0, 1, 1, 1, 1, 1, 0, 1,\n",
       "       0, 1, 0, 0, 0, 1, 1, 0, 0, 0, 1, 1, 1, 1, 0, 0, 1, 0, 0, 1, 0, 0,\n",
       "       1, 0, 0, 0, 0, 1, 1, 0, 0, 1, 1, 0])"
      ]
     },
     "execution_count": 17,
     "metadata": {},
     "output_type": "execute_result"
    }
   ],
   "source": [
    "X, y = make_classification()\n",
    "y"
   ]
  },
  {
   "cell_type": "markdown",
   "metadata": {},
   "source": [
    "Setup pipeline"
   ]
  },
  {
   "cell_type": "code",
   "execution_count": 19,
   "metadata": {},
   "outputs": [],
   "source": [
    "steps = [('pca', PCA()), ('rf', RandomForestClassifier())]\n",
    "pipeline = Pipeline(steps)"
   ]
  },
  {
   "cell_type": "markdown",
   "metadata": {},
   "source": [
    "Define parameter_space"
   ]
  },
  {
   "cell_type": "code",
   "execution_count": 20,
   "metadata": {},
   "outputs": [],
   "source": [
    "parameter_space = {\n",
    "    'rf__n_estimators': hp.uniformint('rf__n_estimators', 100, 1000),\n",
    "    'rf__max_depth': hp.uniformint('rf__max_depth', 1, 5),\n",
    "    'rf__min_weight_fraction_leaf':  hp.uniform('rf__min_weight_fraction_leaf', 0, 0.5),\n",
    "    'rf__criterion': hp.choice('rf__criterion', {'gini', 'entropy', 'log_loss'}),\n",
    "    'pca__n_components': hp.uniformint('pca__n_components', 1, X.shape[1]),\n",
    "            }"
   ]
  },
  {
   "cell_type": "markdown",
   "metadata": {},
   "source": [
    "Cross validation with pipeline"
   ]
  },
  {
   "cell_type": "code",
   "execution_count": 22,
   "metadata": {},
   "outputs": [
    {
     "name": "stdout",
     "output_type": "stream",
     "text": [
      "100%|██████████| 5/5 [00:12<00:00,  2.40s/trial, best loss: 1.6394132165061146]\n"
     ]
    },
    {
     "data": {
      "text/html": [
       "<style>#sk-container-id-2 {color: black;background-color: white;}#sk-container-id-2 pre{padding: 0;}#sk-container-id-2 div.sk-toggleable {background-color: white;}#sk-container-id-2 label.sk-toggleable__label {cursor: pointer;display: block;width: 100%;margin-bottom: 0;padding: 0.3em;box-sizing: border-box;text-align: center;}#sk-container-id-2 label.sk-toggleable__label-arrow:before {content: \"▸\";float: left;margin-right: 0.25em;color: #696969;}#sk-container-id-2 label.sk-toggleable__label-arrow:hover:before {color: black;}#sk-container-id-2 div.sk-estimator:hover label.sk-toggleable__label-arrow:before {color: black;}#sk-container-id-2 div.sk-toggleable__content {max-height: 0;max-width: 0;overflow: hidden;text-align: left;background-color: #f0f8ff;}#sk-container-id-2 div.sk-toggleable__content pre {margin: 0.2em;color: black;border-radius: 0.25em;background-color: #f0f8ff;}#sk-container-id-2 input.sk-toggleable__control:checked~div.sk-toggleable__content {max-height: 200px;max-width: 100%;overflow: auto;}#sk-container-id-2 input.sk-toggleable__control:checked~label.sk-toggleable__label-arrow:before {content: \"▾\";}#sk-container-id-2 div.sk-estimator input.sk-toggleable__control:checked~label.sk-toggleable__label {background-color: #d4ebff;}#sk-container-id-2 div.sk-label input.sk-toggleable__control:checked~label.sk-toggleable__label {background-color: #d4ebff;}#sk-container-id-2 input.sk-hidden--visually {border: 0;clip: rect(1px 1px 1px 1px);clip: rect(1px, 1px, 1px, 1px);height: 1px;margin: -1px;overflow: hidden;padding: 0;position: absolute;width: 1px;}#sk-container-id-2 div.sk-estimator {font-family: monospace;background-color: #f0f8ff;border: 1px dotted black;border-radius: 0.25em;box-sizing: border-box;margin-bottom: 0.5em;}#sk-container-id-2 div.sk-estimator:hover {background-color: #d4ebff;}#sk-container-id-2 div.sk-parallel-item::after {content: \"\";width: 100%;border-bottom: 1px solid gray;flex-grow: 1;}#sk-container-id-2 div.sk-label:hover label.sk-toggleable__label {background-color: #d4ebff;}#sk-container-id-2 div.sk-serial::before {content: \"\";position: absolute;border-left: 1px solid gray;box-sizing: border-box;top: 0;bottom: 0;left: 50%;z-index: 0;}#sk-container-id-2 div.sk-serial {display: flex;flex-direction: column;align-items: center;background-color: white;padding-right: 0.2em;padding-left: 0.2em;position: relative;}#sk-container-id-2 div.sk-item {position: relative;z-index: 1;}#sk-container-id-2 div.sk-parallel {display: flex;align-items: stretch;justify-content: center;background-color: white;position: relative;}#sk-container-id-2 div.sk-item::before, #sk-container-id-2 div.sk-parallel-item::before {content: \"\";position: absolute;border-left: 1px solid gray;box-sizing: border-box;top: 0;bottom: 0;left: 50%;z-index: -1;}#sk-container-id-2 div.sk-parallel-item {display: flex;flex-direction: column;z-index: 1;position: relative;background-color: white;}#sk-container-id-2 div.sk-parallel-item:first-child::after {align-self: flex-end;width: 50%;}#sk-container-id-2 div.sk-parallel-item:last-child::after {align-self: flex-start;width: 50%;}#sk-container-id-2 div.sk-parallel-item:only-child::after {width: 0;}#sk-container-id-2 div.sk-dashed-wrapped {border: 1px dashed gray;margin: 0 0.4em 0.5em 0.4em;box-sizing: border-box;padding-bottom: 0.4em;background-color: white;}#sk-container-id-2 div.sk-label label {font-family: monospace;font-weight: bold;display: inline-block;line-height: 1.2em;}#sk-container-id-2 div.sk-label-container {text-align: center;}#sk-container-id-2 div.sk-container {/* jupyter's `normalize.less` sets `[hidden] { display: none; }` but bootstrap.min.css set `[hidden] { display: none !important; }` so we also need the `!important` here to be able to override the default hidden behavior on the sphinx rendered scikit-learn.org. See: https://github.com/scikit-learn/scikit-learn/issues/21755 */display: inline-block !important;position: relative;}#sk-container-id-2 div.sk-text-repr-fallback {display: none;}</style><div id=\"sk-container-id-2\" class=\"sk-top-container\"><div class=\"sk-text-repr-fallback\"><pre>BayesianSearchCV(cv=StratifiedShuffleSplit(n_splits=3, random_state=42, test_size=0.2,\n",
       "            train_size=None),\n",
       "                 estimator=Pipeline(steps=[(&#x27;pca&#x27;, PCA(n_components=5)),\n",
       "                                           (&#x27;rf&#x27;,\n",
       "                                            RandomForestClassifier(max_depth=5,\n",
       "                                                                   min_weight_fraction_leaf=0.1693061064774386,\n",
       "                                                                   n_estimators=161))]),\n",
       "                 n_iter=5,\n",
       "                 parameter_space={&#x27;pca__n_components&#x27;: &lt;hyperopt.pyll.base.Apply object at 0x7fbe3975f3a0&gt;,\n",
       "                                  &#x27;rf__criterion&#x27;: &lt;hyperopt.pyll.base.Apply object at 0x7fbe3975f310&gt;,\n",
       "                                  &#x27;rf__max_depth&#x27;: &lt;hyperopt.pyll.base.Apply object at 0x7fbe39769a30&gt;,\n",
       "                                  &#x27;rf__min_weight_fraction_leaf&#x27;: &lt;hyperopt.pyll.base.Apply object at 0x7fbe3975f5e0&gt;,\n",
       "                                  &#x27;rf__n_estimators&#x27;: &lt;hyperopt.pyll.base.Apply object at 0x7fbe39769a60&gt;},\n",
       "                 refit=&#x27;f1_score&#x27;, scoring=[&#x27;f1_score&#x27;, &#x27;roc_auc_score&#x27;])</pre><b>In a Jupyter environment, please rerun this cell to show the HTML representation or trust the notebook. <br />On GitHub, the HTML representation is unable to render, please try loading this page with nbviewer.org.</b></div><div class=\"sk-container\" hidden><div class=\"sk-item sk-dashed-wrapped\"><div class=\"sk-label-container\"><div class=\"sk-label sk-toggleable\"><input class=\"sk-toggleable__control sk-hidden--visually\" id=\"sk-estimator-id-4\" type=\"checkbox\" ><label for=\"sk-estimator-id-4\" class=\"sk-toggleable__label sk-toggleable__label-arrow\">BayesianSearchCV</label><div class=\"sk-toggleable__content\"><pre>BayesianSearchCV(cv=StratifiedShuffleSplit(n_splits=3, random_state=42, test_size=0.2,\n",
       "            train_size=None),\n",
       "                 estimator=Pipeline(steps=[(&#x27;pca&#x27;, PCA(n_components=5)),\n",
       "                                           (&#x27;rf&#x27;,\n",
       "                                            RandomForestClassifier(max_depth=5,\n",
       "                                                                   min_weight_fraction_leaf=0.1693061064774386,\n",
       "                                                                   n_estimators=161))]),\n",
       "                 n_iter=5,\n",
       "                 parameter_space={&#x27;pca__n_components&#x27;: &lt;hyperopt.pyll.base.Apply object at 0x7fbe3975f3a0&gt;,\n",
       "                                  &#x27;rf__criterion&#x27;: &lt;hyperopt.pyll.base.Apply object at 0x7fbe3975f310&gt;,\n",
       "                                  &#x27;rf__max_depth&#x27;: &lt;hyperopt.pyll.base.Apply object at 0x7fbe39769a30&gt;,\n",
       "                                  &#x27;rf__min_weight_fraction_leaf&#x27;: &lt;hyperopt.pyll.base.Apply object at 0x7fbe3975f5e0&gt;,\n",
       "                                  &#x27;rf__n_estimators&#x27;: &lt;hyperopt.pyll.base.Apply object at 0x7fbe39769a60&gt;},\n",
       "                 refit=&#x27;f1_score&#x27;, scoring=[&#x27;f1_score&#x27;, &#x27;roc_auc_score&#x27;])</pre></div></div></div><div class=\"sk-parallel\"><div class=\"sk-parallel-item\"><div class=\"sk-item\"><div class=\"sk-label-container\"><div class=\"sk-label sk-toggleable\"><input class=\"sk-toggleable__control sk-hidden--visually\" id=\"sk-estimator-id-5\" type=\"checkbox\" ><label for=\"sk-estimator-id-5\" class=\"sk-toggleable__label sk-toggleable__label-arrow\">estimator: Pipeline</label><div class=\"sk-toggleable__content\"><pre>Pipeline(steps=[(&#x27;pca&#x27;, PCA(n_components=5)),\n",
       "                (&#x27;rf&#x27;,\n",
       "                 RandomForestClassifier(max_depth=5,\n",
       "                                        min_weight_fraction_leaf=0.1693061064774386,\n",
       "                                        n_estimators=161))])</pre></div></div></div><div class=\"sk-serial\"><div class=\"sk-item\"><div class=\"sk-serial\"><div class=\"sk-item\"><div class=\"sk-estimator sk-toggleable\"><input class=\"sk-toggleable__control sk-hidden--visually\" id=\"sk-estimator-id-6\" type=\"checkbox\" ><label for=\"sk-estimator-id-6\" class=\"sk-toggleable__label sk-toggleable__label-arrow\">PCA</label><div class=\"sk-toggleable__content\"><pre>PCA(n_components=5)</pre></div></div></div><div class=\"sk-item\"><div class=\"sk-estimator sk-toggleable\"><input class=\"sk-toggleable__control sk-hidden--visually\" id=\"sk-estimator-id-7\" type=\"checkbox\" ><label for=\"sk-estimator-id-7\" class=\"sk-toggleable__label sk-toggleable__label-arrow\">RandomForestClassifier</label><div class=\"sk-toggleable__content\"><pre>RandomForestClassifier(max_depth=5, min_weight_fraction_leaf=0.1693061064774386,\n",
       "                       n_estimators=161)</pre></div></div></div></div></div></div></div></div></div></div></div></div>"
      ],
      "text/plain": [
       "BayesianSearchCV(cv=StratifiedShuffleSplit(n_splits=3, random_state=42, test_size=0.2,\n",
       "            train_size=None),\n",
       "                 estimator=Pipeline(steps=[('pca', PCA(n_components=5)),\n",
       "                                           ('rf',\n",
       "                                            RandomForestClassifier(max_depth=5,\n",
       "                                                                   min_weight_fraction_leaf=0.1693061064774386,\n",
       "                                                                   n_estimators=161))]),\n",
       "                 n_iter=5,\n",
       "                 parameter_space={'pca__n_components': <hyperopt.pyll.base.Apply object at 0x7fbe3975f3a0>,\n",
       "                                  'rf__criterion': <hyperopt.pyll.base.Apply object at 0x7fbe3975f310>,\n",
       "                                  'rf__max_depth': <hyperopt.pyll.base.Apply object at 0x7fbe39769a30>,\n",
       "                                  'rf__min_weight_fraction_leaf': <hyperopt.pyll.base.Apply object at 0x7fbe3975f5e0>,\n",
       "                                  'rf__n_estimators': <hyperopt.pyll.base.Apply object at 0x7fbe39769a60>},\n",
       "                 refit='f1_score', scoring=['f1_score', 'roc_auc_score'])"
      ]
     },
     "execution_count": 22,
     "metadata": {},
     "output_type": "execute_result"
    }
   ],
   "source": [
    "cv = BayesianSearchCV(estimator=pipeline, parameter_space=parameter_space, scoring=[\"f1_score\", \"roc_auc_score\"], refit=\"f1_score\", n_iter=5, cv=cv);\n",
    "cv.fit(X, y)"
   ]
  },
  {
   "cell_type": "markdown",
   "metadata": {},
   "source": [
    "Analyze the results"
   ]
  },
  {
   "cell_type": "code",
   "execution_count": 24,
   "metadata": {},
   "outputs": [
    {
     "data": {
      "text/html": [
       "<div>\n",
       "<style scoped>\n",
       "    .dataframe tbody tr th:only-of-type {\n",
       "        vertical-align: middle;\n",
       "    }\n",
       "\n",
       "    .dataframe tbody tr th {\n",
       "        vertical-align: top;\n",
       "    }\n",
       "\n",
       "    .dataframe thead th {\n",
       "        text-align: right;\n",
       "    }\n",
       "</style>\n",
       "<table border=\"1\" class=\"dataframe\">\n",
       "  <thead>\n",
       "    <tr style=\"text-align: right;\">\n",
       "      <th></th>\n",
       "      <th>parameters</th>\n",
       "      <th>rank_score</th>\n",
       "      <th>average_val_f1_score</th>\n",
       "    </tr>\n",
       "  </thead>\n",
       "  <tbody>\n",
       "    <tr>\n",
       "      <th>0</th>\n",
       "      <td>{'pca__n_components': 1, 'rf__criterion': 'gin...</td>\n",
       "      <td>5</td>\n",
       "      <td>0.529683</td>\n",
       "    </tr>\n",
       "    <tr>\n",
       "      <th>1</th>\n",
       "      <td>{'pca__n_components': 4, 'rf__criterion': 'gin...</td>\n",
       "      <td>4</td>\n",
       "      <td>0.331699</td>\n",
       "    </tr>\n",
       "    <tr>\n",
       "      <th>2</th>\n",
       "      <td>{'pca__n_components': 5, 'rf__criterion': 'log...</td>\n",
       "      <td>3</td>\n",
       "      <td>0.285354</td>\n",
       "    </tr>\n",
       "    <tr>\n",
       "      <th>3</th>\n",
       "      <td>{'pca__n_components': 5, 'rf__criterion': 'gin...</td>\n",
       "      <td>1</td>\n",
       "      <td>0.225397</td>\n",
       "    </tr>\n",
       "    <tr>\n",
       "      <th>4</th>\n",
       "      <td>{'pca__n_components': 3, 'rf__criterion': 'gin...</td>\n",
       "      <td>2</td>\n",
       "      <td>0.281218</td>\n",
       "    </tr>\n",
       "  </tbody>\n",
       "</table>\n",
       "</div>"
      ],
      "text/plain": [
       "                                          parameters  rank_score  \\\n",
       "0  {'pca__n_components': 1, 'rf__criterion': 'gin...           5   \n",
       "1  {'pca__n_components': 4, 'rf__criterion': 'gin...           4   \n",
       "2  {'pca__n_components': 5, 'rf__criterion': 'log...           3   \n",
       "3  {'pca__n_components': 5, 'rf__criterion': 'gin...           1   \n",
       "4  {'pca__n_components': 3, 'rf__criterion': 'gin...           2   \n",
       "\n",
       "   average_val_f1_score  \n",
       "0              0.529683  \n",
       "1              0.331699  \n",
       "2              0.285354  \n",
       "3              0.225397  \n",
       "4              0.281218  "
      ]
     },
     "execution_count": 24,
     "metadata": {},
     "output_type": "execute_result"
    }
   ],
   "source": [
    "cv_results_ = pd.DataFrame.from_dict(cv.cv_results_)\n",
    "cv_results_[['parameters', 'rank_score', 'average_val_f1_score']]"
   ]
  },
  {
   "cell_type": "markdown",
   "metadata": {},
   "source": [
    "Check if the best estimator is the same as the estimator with the best parameters."
   ]
  },
  {
   "cell_type": "code",
   "execution_count": 25,
   "metadata": {},
   "outputs": [],
   "source": [
    "assert cv.best_params_ == cv_results_.query(\"rank_score == 1\")['parameters'].values[0]"
   ]
  },
  {
   "cell_type": "code",
   "execution_count": null,
   "metadata": {},
   "outputs": [],
   "source": []
  }
 ],
 "metadata": {
  "kernelspec": {
   "display_name": "Python 3.9.7 64-bit",
   "language": "python",
   "name": "python3"
  },
  "language_info": {
   "codemirror_mode": {
    "name": "ipython",
    "version": 3
   },
   "file_extension": ".py",
   "mimetype": "text/x-python",
   "name": "python",
   "nbconvert_exporter": "python",
   "pygments_lexer": "ipython3",
   "version": "3.9.7"
  },
  "orig_nbformat": 4,
  "vscode": {
   "interpreter": {
    "hash": "949777d72b0d2535278d3dc13498b2535136f6dfe0678499012e853ee9abcab1"
   }
  }
 },
 "nbformat": 4,
 "nbformat_minor": 2
}
