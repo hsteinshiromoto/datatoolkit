{
 "cells": [
  {
   "cell_type": "markdown",
   "metadata": {},
   "source": [
    "# Using Bayesian Optimization to Perform Cross Validation"
   ]
  },
  {
   "attachments": {},
   "cell_type": "markdown",
   "metadata": {},
   "source": [
    "Bayesian optimization is a global optimization method for noisy black-box functions. It is particularly useful for optimizing the hyperparameters of machine learning algorithms.\n",
    "\n",
    "Bayesian optimization works by constructing a surrogate function, known as a Bayesian model, which approximates the true objective function. This model is updated at each step of the optimization procedure, allowing the algorithm to adapt to the underlying structure of the objective function and improve the selection of points to evaluate. The final result is the set of hyperparameters that maximize the value of the objective function.\n",
    "\n",
    "One of the key advantages of Bayesian optimization is that it can handle constraints and noisy evaluations, and it often requires fewer function evaluations to find the global optimum compared to other optimization methods. It is therefore a popular choice for optimizing the performance of machine learning algorithms."
   ]
  },
  {
   "cell_type": "markdown",
   "metadata": {},
   "source": [
    "Cross validation is a model evaluation method that is commonly used in machine learning. It is a technique for assessing how the results of a statistical analysis will generalize to an independent data set. This is important because the goal of any machine learning algorithm is to make accurate predictions on new, unseen data.\n",
    "\n",
    "Cross validation involves dividing the original dataset into two or more subsets, performing the analysis on one subset (called the training set), and then evaluating the model on the other subset (called the test set or validation set). This procedure is repeated several times, with different subsets of the data used for training and validation, in order to get an estimate of the model's performance on unseen data.\n",
    "\n",
    "Cross validation is a useful technique because it helps to prevent overfitting, which occurs when a model is too closely fit to the training data and does not generalize well to new data. By evaluating a model on multiple subsets of the data, it is possible to get a better sense of its performance on unseen data and make more accurate predictions."
   ]
  },
  {
   "cell_type": "markdown",
   "metadata": {},
   "source": [
    "## Import"
   ]
  },
  {
   "cell_type": "markdown",
   "metadata": {},
   "source": [
    "### Modules"
   ]
  },
  {
   "cell_type": "code",
   "execution_count": 21,
   "metadata": {},
   "outputs": [
    {
     "name": "stdout",
     "output_type": "stream",
     "text": [
      "The autoreload extension is already loaded. To reload it, use:\n",
      "  %reload_ext autoreload\n"
     ]
    }
   ],
   "source": [
    "%load_ext autoreload\n",
    "%autoreload 2\n",
    "# %load_ext watermark\n",
    "# %watermark -n -u -v -iv -w\n",
    "\n",
    "import sys\n",
    "from pathlib import Path\n",
    "\n",
    "from datatoolkit import BayesianSearchCV\n",
    "from hyperopt import hp\n",
    "from sklearn.ensemble import RandomForestClassifier\n",
    "from sklearn.model_selection import StratifiedShuffleSplit, RandomizedSearchCV\n",
    "from sklearn.datasets import load_iris, make_classification\n",
    "from sklearn.decomposition import PCA\n",
    "from sklearn.pipeline import Pipeline\n",
    "import scipy.stats as ss\n",
    "import pandas as pd"
   ]
  },
  {
   "cell_type": "markdown",
   "metadata": {},
   "source": [
    "Setup paths"
   ]
  },
  {
   "cell_type": "code",
   "execution_count": 5,
   "metadata": {},
   "outputs": [],
   "source": [
    "PROJECT_ROOT = Path.cwd().resolve().parent\n",
    "sys.path.append(str(PROJECT_ROOT))"
   ]
  },
  {
   "cell_type": "markdown",
   "metadata": {},
   "source": [
    "### Scripts"
   ]
  },
  {
   "cell_type": "code",
   "execution_count": 3,
   "metadata": {},
   "outputs": [],
   "source": [
    "from datatoolkit.model_selection import BayesianSearchCV"
   ]
  },
  {
   "cell_type": "markdown",
   "metadata": {},
   "source": [
    "## Examples"
   ]
  },
  {
   "cell_type": "markdown",
   "metadata": {},
   "source": [
    "### Random Forest Classifier"
   ]
  },
  {
   "cell_type": "markdown",
   "metadata": {},
   "source": [
    "Set parameter spacem, which is a dictionary of hyperparameters and their distributions."
   ]
  },
  {
   "cell_type": "code",
   "execution_count": 6,
   "metadata": {},
   "outputs": [],
   "source": [
    "parameter_space = {\n",
    "    'n_estimators': hp.uniformint('n_estimators', 100, 1000),\n",
    "    'max_depth': hp.uniformint('max_depth', 1, 5),\n",
    "    'min_weight_fraction_leaf':  hp.uniform('min_weight_fraction_leaf', 0, 0.5),\n",
    "    'criterion': hp.choice('criterion', {'gini', 'entropy', 'log_loss'}),\n",
    "            }"
   ]
  },
  {
   "cell_type": "markdown",
   "metadata": {},
   "source": [
    "Set estimator andm cross validation generator"
   ]
  },
  {
   "cell_type": "code",
   "execution_count": 9,
   "metadata": {},
   "outputs": [],
   "source": [
    "estimator = RandomForestClassifier()\n",
    "cv = StratifiedShuffleSplit(n_splits=3, test_size=0.2, random_state=42)"
   ]
  },
  {
   "cell_type": "markdown",
   "metadata": {},
   "source": [
    "Load data"
   ]
  },
  {
   "cell_type": "code",
   "execution_count": 10,
   "metadata": {},
   "outputs": [],
   "source": [
    "X, y = load_iris(return_X_y=True)\n",
    "X = X[:, :2]\n",
    "X = X[y < 2]\n",
    "y = y[y < 2]"
   ]
  },
  {
   "cell_type": "markdown",
   "metadata": {},
   "source": [
    "Cross validate with `BayesianSearchCV`"
   ]
  },
  {
   "cell_type": "code",
   "execution_count": 11,
   "metadata": {},
   "outputs": [
    {
     "name": "stdout",
     "output_type": "stream",
     "text": [
      "100%|██████████| 5/5 [00:12<00:00,  2.49s/trial, best loss: 0.19554043336188565]\n"
     ]
    },
    {
     "data": {
      "text/html": [
       "<style>#sk-container-id-1 {color: black;background-color: white;}#sk-container-id-1 pre{padding: 0;}#sk-container-id-1 div.sk-toggleable {background-color: white;}#sk-container-id-1 label.sk-toggleable__label {cursor: pointer;display: block;width: 100%;margin-bottom: 0;padding: 0.3em;box-sizing: border-box;text-align: center;}#sk-container-id-1 label.sk-toggleable__label-arrow:before {content: \"▸\";float: left;margin-right: 0.25em;color: #696969;}#sk-container-id-1 label.sk-toggleable__label-arrow:hover:before {color: black;}#sk-container-id-1 div.sk-estimator:hover label.sk-toggleable__label-arrow:before {color: black;}#sk-container-id-1 div.sk-toggleable__content {max-height: 0;max-width: 0;overflow: hidden;text-align: left;background-color: #f0f8ff;}#sk-container-id-1 div.sk-toggleable__content pre {margin: 0.2em;color: black;border-radius: 0.25em;background-color: #f0f8ff;}#sk-container-id-1 input.sk-toggleable__control:checked~div.sk-toggleable__content {max-height: 200px;max-width: 100%;overflow: auto;}#sk-container-id-1 input.sk-toggleable__control:checked~label.sk-toggleable__label-arrow:before {content: \"▾\";}#sk-container-id-1 div.sk-estimator input.sk-toggleable__control:checked~label.sk-toggleable__label {background-color: #d4ebff;}#sk-container-id-1 div.sk-label input.sk-toggleable__control:checked~label.sk-toggleable__label {background-color: #d4ebff;}#sk-container-id-1 input.sk-hidden--visually {border: 0;clip: rect(1px 1px 1px 1px);clip: rect(1px, 1px, 1px, 1px);height: 1px;margin: -1px;overflow: hidden;padding: 0;position: absolute;width: 1px;}#sk-container-id-1 div.sk-estimator {font-family: monospace;background-color: #f0f8ff;border: 1px dotted black;border-radius: 0.25em;box-sizing: border-box;margin-bottom: 0.5em;}#sk-container-id-1 div.sk-estimator:hover {background-color: #d4ebff;}#sk-container-id-1 div.sk-parallel-item::after {content: \"\";width: 100%;border-bottom: 1px solid gray;flex-grow: 1;}#sk-container-id-1 div.sk-label:hover label.sk-toggleable__label {background-color: #d4ebff;}#sk-container-id-1 div.sk-serial::before {content: \"\";position: absolute;border-left: 1px solid gray;box-sizing: border-box;top: 0;bottom: 0;left: 50%;z-index: 0;}#sk-container-id-1 div.sk-serial {display: flex;flex-direction: column;align-items: center;background-color: white;padding-right: 0.2em;padding-left: 0.2em;position: relative;}#sk-container-id-1 div.sk-item {position: relative;z-index: 1;}#sk-container-id-1 div.sk-parallel {display: flex;align-items: stretch;justify-content: center;background-color: white;position: relative;}#sk-container-id-1 div.sk-item::before, #sk-container-id-1 div.sk-parallel-item::before {content: \"\";position: absolute;border-left: 1px solid gray;box-sizing: border-box;top: 0;bottom: 0;left: 50%;z-index: -1;}#sk-container-id-1 div.sk-parallel-item {display: flex;flex-direction: column;z-index: 1;position: relative;background-color: white;}#sk-container-id-1 div.sk-parallel-item:first-child::after {align-self: flex-end;width: 50%;}#sk-container-id-1 div.sk-parallel-item:last-child::after {align-self: flex-start;width: 50%;}#sk-container-id-1 div.sk-parallel-item:only-child::after {width: 0;}#sk-container-id-1 div.sk-dashed-wrapped {border: 1px dashed gray;margin: 0 0.4em 0.5em 0.4em;box-sizing: border-box;padding-bottom: 0.4em;background-color: white;}#sk-container-id-1 div.sk-label label {font-family: monospace;font-weight: bold;display: inline-block;line-height: 1.2em;}#sk-container-id-1 div.sk-label-container {text-align: center;}#sk-container-id-1 div.sk-container {/* jupyter's `normalize.less` sets `[hidden] { display: none; }` but bootstrap.min.css set `[hidden] { display: none !important; }` so we also need the `!important` here to be able to override the default hidden behavior on the sphinx rendered scikit-learn.org. See: https://github.com/scikit-learn/scikit-learn/issues/21755 */display: inline-block !important;position: relative;}#sk-container-id-1 div.sk-text-repr-fallback {display: none;}</style><div id=\"sk-container-id-1\" class=\"sk-top-container\"><div class=\"sk-text-repr-fallback\"><pre>BayesianSearchCV(cv=StratifiedShuffleSplit(n_splits=3, random_state=42, test_size=0.2,\n",
       "            train_size=None),\n",
       "                 estimator=RandomForestClassifier(criterion=&#x27;log_loss&#x27;,\n",
       "                                                  max_depth=3,\n",
       "                                                  min_weight_fraction_leaf=0.010517702670351736,\n",
       "                                                  n_estimators=750),\n",
       "                 n_iter=5,\n",
       "                 parameter_space={&#x27;criterion&#x27;: &lt;hyperopt.pyll.base.Apply object at 0x7f3e61881430&gt;,\n",
       "                                  &#x27;max_depth&#x27;: &lt;hyperopt.pyll.base.Apply object at 0x7f3e875dad30&gt;,\n",
       "                                  &#x27;min_weight_fraction_leaf&#x27;: &lt;hyperopt.pyll.base.Apply object at 0x7f3e61881520&gt;,\n",
       "                                  &#x27;n_estimators&#x27;: &lt;hyperopt.pyll.base.Apply object at 0x7f3e875a8400&gt;},\n",
       "                 refit=&#x27;f1_score&#x27;, scoring=[&#x27;f1_score&#x27;, &#x27;roc_auc_score&#x27;])</pre><b>In a Jupyter environment, please rerun this cell to show the HTML representation or trust the notebook. <br />On GitHub, the HTML representation is unable to render, please try loading this page with nbviewer.org.</b></div><div class=\"sk-container\" hidden><div class=\"sk-item sk-dashed-wrapped\"><div class=\"sk-label-container\"><div class=\"sk-label sk-toggleable\"><input class=\"sk-toggleable__control sk-hidden--visually\" id=\"sk-estimator-id-1\" type=\"checkbox\" ><label for=\"sk-estimator-id-1\" class=\"sk-toggleable__label sk-toggleable__label-arrow\">BayesianSearchCV</label><div class=\"sk-toggleable__content\"><pre>BayesianSearchCV(cv=StratifiedShuffleSplit(n_splits=3, random_state=42, test_size=0.2,\n",
       "            train_size=None),\n",
       "                 estimator=RandomForestClassifier(criterion=&#x27;log_loss&#x27;,\n",
       "                                                  max_depth=3,\n",
       "                                                  min_weight_fraction_leaf=0.010517702670351736,\n",
       "                                                  n_estimators=750),\n",
       "                 n_iter=5,\n",
       "                 parameter_space={&#x27;criterion&#x27;: &lt;hyperopt.pyll.base.Apply object at 0x7f3e61881430&gt;,\n",
       "                                  &#x27;max_depth&#x27;: &lt;hyperopt.pyll.base.Apply object at 0x7f3e875dad30&gt;,\n",
       "                                  &#x27;min_weight_fraction_leaf&#x27;: &lt;hyperopt.pyll.base.Apply object at 0x7f3e61881520&gt;,\n",
       "                                  &#x27;n_estimators&#x27;: &lt;hyperopt.pyll.base.Apply object at 0x7f3e875a8400&gt;},\n",
       "                 refit=&#x27;f1_score&#x27;, scoring=[&#x27;f1_score&#x27;, &#x27;roc_auc_score&#x27;])</pre></div></div></div><div class=\"sk-parallel\"><div class=\"sk-parallel-item\"><div class=\"sk-item\"><div class=\"sk-label-container\"><div class=\"sk-label sk-toggleable\"><input class=\"sk-toggleable__control sk-hidden--visually\" id=\"sk-estimator-id-2\" type=\"checkbox\" ><label for=\"sk-estimator-id-2\" class=\"sk-toggleable__label sk-toggleable__label-arrow\">estimator: RandomForestClassifier</label><div class=\"sk-toggleable__content\"><pre>RandomForestClassifier(criterion=&#x27;log_loss&#x27;, max_depth=3,\n",
       "                       min_weight_fraction_leaf=0.010517702670351736,\n",
       "                       n_estimators=750)</pre></div></div></div><div class=\"sk-serial\"><div class=\"sk-item\"><div class=\"sk-estimator sk-toggleable\"><input class=\"sk-toggleable__control sk-hidden--visually\" id=\"sk-estimator-id-3\" type=\"checkbox\" ><label for=\"sk-estimator-id-3\" class=\"sk-toggleable__label sk-toggleable__label-arrow\">RandomForestClassifier</label><div class=\"sk-toggleable__content\"><pre>RandomForestClassifier(criterion=&#x27;log_loss&#x27;, max_depth=3,\n",
       "                       min_weight_fraction_leaf=0.010517702670351736,\n",
       "                       n_estimators=750)</pre></div></div></div></div></div></div></div></div></div></div>"
      ],
      "text/plain": [
       "BayesianSearchCV(cv=StratifiedShuffleSplit(n_splits=3, random_state=42, test_size=0.2,\n",
       "            train_size=None),\n",
       "                 estimator=RandomForestClassifier(criterion='log_loss',\n",
       "                                                  max_depth=3,\n",
       "                                                  min_weight_fraction_leaf=0.010517702670351736,\n",
       "                                                  n_estimators=750),\n",
       "                 n_iter=5,\n",
       "                 parameter_space={'criterion': <hyperopt.pyll.base.Apply object at 0x7f3e61881430>,\n",
       "                                  'max_depth': <hyperopt.pyll.base.Apply object at 0x7f3e875dad30>,\n",
       "                                  'min_weight_fraction_leaf': <hyperopt.pyll.base.Apply object at 0x7f3e61881520>,\n",
       "                                  'n_estimators': <hyperopt.pyll.base.Apply object at 0x7f3e875a8400>},\n",
       "                 refit='f1_score', scoring=['f1_score', 'roc_auc_score'])"
      ]
     },
     "execution_count": 11,
     "metadata": {},
     "output_type": "execute_result"
    }
   ],
   "source": [
    "bs = BayesianSearchCV(estimator=estimator, parameter_space=parameter_space, scoring=[\"f1_score\", \"roc_auc_score\"], refit=\"f1_score\", n_iter=5, cv=cv);\n",
    "bs.fit(X, y)"
   ]
  },
  {
   "cell_type": "markdown",
   "metadata": {},
   "source": [
    "Analyzing results..."
   ]
  },
  {
   "cell_type": "code",
   "execution_count": 12,
   "metadata": {},
   "outputs": [
    {
     "data": {
      "text/html": [
       "<div>\n",
       "<style scoped>\n",
       "    .dataframe tbody tr th:only-of-type {\n",
       "        vertical-align: middle;\n",
       "    }\n",
       "\n",
       "    .dataframe tbody tr th {\n",
       "        vertical-align: top;\n",
       "    }\n",
       "\n",
       "    .dataframe thead th {\n",
       "        text-align: right;\n",
       "    }\n",
       "</style>\n",
       "<table border=\"1\" class=\"dataframe\">\n",
       "  <thead>\n",
       "    <tr style=\"text-align: right;\">\n",
       "      <th></th>\n",
       "      <th>parameters</th>\n",
       "      <th>rank_score</th>\n",
       "      <th>average_val_f1_score</th>\n",
       "    </tr>\n",
       "  </thead>\n",
       "  <tbody>\n",
       "    <tr>\n",
       "      <th>0</th>\n",
       "      <td>{'criterion': 'log_loss', 'max_depth': 3, 'min...</td>\n",
       "      <td>1</td>\n",
       "      <td>0.050961</td>\n",
       "    </tr>\n",
       "    <tr>\n",
       "      <th>1</th>\n",
       "      <td>{'criterion': 'entropy', 'max_depth': 4, 'min_...</td>\n",
       "      <td>3</td>\n",
       "      <td>0.151356</td>\n",
       "    </tr>\n",
       "    <tr>\n",
       "      <th>2</th>\n",
       "      <td>{'criterion': 'log_loss', 'max_depth': 3, 'min...</td>\n",
       "      <td>2</td>\n",
       "      <td>0.130303</td>\n",
       "    </tr>\n",
       "    <tr>\n",
       "      <th>3</th>\n",
       "      <td>{'criterion': 'gini', 'max_depth': 4, 'min_wei...</td>\n",
       "      <td>4</td>\n",
       "      <td>0.165641</td>\n",
       "    </tr>\n",
       "    <tr>\n",
       "      <th>4</th>\n",
       "      <td>{'criterion': 'entropy', 'max_depth': 3, 'min_...</td>\n",
       "      <td>5</td>\n",
       "      <td>0.178817</td>\n",
       "    </tr>\n",
       "  </tbody>\n",
       "</table>\n",
       "</div>"
      ],
      "text/plain": [
       "                                          parameters  rank_score  \\\n",
       "0  {'criterion': 'log_loss', 'max_depth': 3, 'min...           1   \n",
       "1  {'criterion': 'entropy', 'max_depth': 4, 'min_...           3   \n",
       "2  {'criterion': 'log_loss', 'max_depth': 3, 'min...           2   \n",
       "3  {'criterion': 'gini', 'max_depth': 4, 'min_wei...           4   \n",
       "4  {'criterion': 'entropy', 'max_depth': 3, 'min_...           5   \n",
       "\n",
       "   average_val_f1_score  \n",
       "0              0.050961  \n",
       "1              0.151356  \n",
       "2              0.130303  \n",
       "3              0.165641  \n",
       "4              0.178817  "
      ]
     },
     "execution_count": 12,
     "metadata": {},
     "output_type": "execute_result"
    }
   ],
   "source": [
    "cv_results_ = pd.DataFrame.from_dict(bs.cv_results_)\n",
    "cv_results_[['parameters', 'rank_score', 'average_val_f1_score']]"
   ]
  },
  {
   "cell_type": "markdown",
   "metadata": {},
   "source": [
    "Check if the best estimator is the same as the estimator with the best parameters."
   ]
  },
  {
   "cell_type": "code",
   "execution_count": 13,
   "metadata": {},
   "outputs": [],
   "source": [
    "assert bs.best_params_ == cv_results_.query(\"rank_score == 1\")['parameters'].values[0]"
   ]
  },
  {
   "cell_type": "markdown",
   "metadata": {},
   "source": [
    "### Cross validating a pipeline"
   ]
  },
  {
   "cell_type": "markdown",
   "metadata": {},
   "source": [
    "Load dataset"
   ]
  },
  {
   "cell_type": "code",
   "execution_count": 14,
   "metadata": {},
   "outputs": [
    {
     "data": {
      "text/plain": [
       "array([1, 0, 1, 1, 0, 1, 0, 1, 0, 1, 0, 1, 1, 0, 0, 1, 1, 0, 1, 0, 0, 0,\n",
       "       1, 1, 1, 0, 1, 1, 0, 1, 0, 0, 0, 0, 1, 1, 1, 0, 0, 0, 0, 1, 0, 1,\n",
       "       1, 0, 1, 1, 1, 0, 0, 0, 0, 0, 1, 1, 1, 0, 1, 0, 0, 0, 1, 1, 1, 1,\n",
       "       1, 1, 0, 0, 0, 0, 1, 0, 1, 0, 0, 0, 0, 1, 1, 0, 1, 1, 0, 1, 1, 0,\n",
       "       0, 0, 1, 0, 1, 1, 0, 0, 1, 0, 1, 1])"
      ]
     },
     "execution_count": 14,
     "metadata": {},
     "output_type": "execute_result"
    }
   ],
   "source": [
    "X, y = make_classification()\n",
    "y"
   ]
  },
  {
   "cell_type": "markdown",
   "metadata": {},
   "source": [
    "Setup pipeline"
   ]
  },
  {
   "cell_type": "code",
   "execution_count": 15,
   "metadata": {},
   "outputs": [],
   "source": [
    "steps = [('pca', PCA()), ('rf', RandomForestClassifier())]\n",
    "pipeline = Pipeline(steps)"
   ]
  },
  {
   "cell_type": "markdown",
   "metadata": {},
   "source": [
    "Define parameter_space"
   ]
  },
  {
   "cell_type": "code",
   "execution_count": 16,
   "metadata": {},
   "outputs": [],
   "source": [
    "parameter_space = {\n",
    "    'rf__n_estimators': hp.uniformint('rf__n_estimators', 100, 1000),\n",
    "    'rf__max_depth': hp.uniformint('rf__max_depth', 1, 5),\n",
    "    'rf__min_weight_fraction_leaf':  hp.uniform('rf__min_weight_fraction_leaf', 0, 0.5),\n",
    "    'rf__criterion': hp.choice('rf__criterion', {'gini', 'entropy', 'log_loss'}),\n",
    "    'pca__n_components': hp.uniformint('pca__n_components', 1, X.shape[1]),\n",
    "            }"
   ]
  },
  {
   "cell_type": "markdown",
   "metadata": {},
   "source": [
    "Cross validation with pipeline"
   ]
  },
  {
   "cell_type": "code",
   "execution_count": 17,
   "metadata": {},
   "outputs": [
    {
     "name": "stdout",
     "output_type": "stream",
     "text": [
      "100%|██████████| 5/5 [00:23<00:00,  4.67s/trial, best loss: 1.4209269505755184]\n"
     ]
    },
    {
     "data": {
      "text/html": [
       "<style>#sk-container-id-2 {color: black;background-color: white;}#sk-container-id-2 pre{padding: 0;}#sk-container-id-2 div.sk-toggleable {background-color: white;}#sk-container-id-2 label.sk-toggleable__label {cursor: pointer;display: block;width: 100%;margin-bottom: 0;padding: 0.3em;box-sizing: border-box;text-align: center;}#sk-container-id-2 label.sk-toggleable__label-arrow:before {content: \"▸\";float: left;margin-right: 0.25em;color: #696969;}#sk-container-id-2 label.sk-toggleable__label-arrow:hover:before {color: black;}#sk-container-id-2 div.sk-estimator:hover label.sk-toggleable__label-arrow:before {color: black;}#sk-container-id-2 div.sk-toggleable__content {max-height: 0;max-width: 0;overflow: hidden;text-align: left;background-color: #f0f8ff;}#sk-container-id-2 div.sk-toggleable__content pre {margin: 0.2em;color: black;border-radius: 0.25em;background-color: #f0f8ff;}#sk-container-id-2 input.sk-toggleable__control:checked~div.sk-toggleable__content {max-height: 200px;max-width: 100%;overflow: auto;}#sk-container-id-2 input.sk-toggleable__control:checked~label.sk-toggleable__label-arrow:before {content: \"▾\";}#sk-container-id-2 div.sk-estimator input.sk-toggleable__control:checked~label.sk-toggleable__label {background-color: #d4ebff;}#sk-container-id-2 div.sk-label input.sk-toggleable__control:checked~label.sk-toggleable__label {background-color: #d4ebff;}#sk-container-id-2 input.sk-hidden--visually {border: 0;clip: rect(1px 1px 1px 1px);clip: rect(1px, 1px, 1px, 1px);height: 1px;margin: -1px;overflow: hidden;padding: 0;position: absolute;width: 1px;}#sk-container-id-2 div.sk-estimator {font-family: monospace;background-color: #f0f8ff;border: 1px dotted black;border-radius: 0.25em;box-sizing: border-box;margin-bottom: 0.5em;}#sk-container-id-2 div.sk-estimator:hover {background-color: #d4ebff;}#sk-container-id-2 div.sk-parallel-item::after {content: \"\";width: 100%;border-bottom: 1px solid gray;flex-grow: 1;}#sk-container-id-2 div.sk-label:hover label.sk-toggleable__label {background-color: #d4ebff;}#sk-container-id-2 div.sk-serial::before {content: \"\";position: absolute;border-left: 1px solid gray;box-sizing: border-box;top: 0;bottom: 0;left: 50%;z-index: 0;}#sk-container-id-2 div.sk-serial {display: flex;flex-direction: column;align-items: center;background-color: white;padding-right: 0.2em;padding-left: 0.2em;position: relative;}#sk-container-id-2 div.sk-item {position: relative;z-index: 1;}#sk-container-id-2 div.sk-parallel {display: flex;align-items: stretch;justify-content: center;background-color: white;position: relative;}#sk-container-id-2 div.sk-item::before, #sk-container-id-2 div.sk-parallel-item::before {content: \"\";position: absolute;border-left: 1px solid gray;box-sizing: border-box;top: 0;bottom: 0;left: 50%;z-index: -1;}#sk-container-id-2 div.sk-parallel-item {display: flex;flex-direction: column;z-index: 1;position: relative;background-color: white;}#sk-container-id-2 div.sk-parallel-item:first-child::after {align-self: flex-end;width: 50%;}#sk-container-id-2 div.sk-parallel-item:last-child::after {align-self: flex-start;width: 50%;}#sk-container-id-2 div.sk-parallel-item:only-child::after {width: 0;}#sk-container-id-2 div.sk-dashed-wrapped {border: 1px dashed gray;margin: 0 0.4em 0.5em 0.4em;box-sizing: border-box;padding-bottom: 0.4em;background-color: white;}#sk-container-id-2 div.sk-label label {font-family: monospace;font-weight: bold;display: inline-block;line-height: 1.2em;}#sk-container-id-2 div.sk-label-container {text-align: center;}#sk-container-id-2 div.sk-container {/* jupyter's `normalize.less` sets `[hidden] { display: none; }` but bootstrap.min.css set `[hidden] { display: none !important; }` so we also need the `!important` here to be able to override the default hidden behavior on the sphinx rendered scikit-learn.org. See: https://github.com/scikit-learn/scikit-learn/issues/21755 */display: inline-block !important;position: relative;}#sk-container-id-2 div.sk-text-repr-fallback {display: none;}</style><div id=\"sk-container-id-2\" class=\"sk-top-container\"><div class=\"sk-text-repr-fallback\"><pre>BayesianSearchCV(cv=StratifiedShuffleSplit(n_splits=3, random_state=42, test_size=0.2,\n",
       "            train_size=None),\n",
       "                 estimator=Pipeline(steps=[(&#x27;pca&#x27;, PCA(n_components=12)),\n",
       "                                           (&#x27;rf&#x27;,\n",
       "                                            RandomForestClassifier(max_depth=5,\n",
       "                                                                   min_weight_fraction_leaf=0.28533620290892037,\n",
       "                                                                   n_estimators=867))]),\n",
       "                 n_iter=5,\n",
       "                 parameter_space={&#x27;pca__n_components&#x27;: &lt;hyperopt.pyll.base.Apply object at 0x7f3e615f1220&gt;,\n",
       "                                  &#x27;rf__criterion&#x27;: &lt;hyperopt.pyll.base.Apply object at 0x7f3e615f1160&gt;,\n",
       "                                  &#x27;rf__max_depth&#x27;: &lt;hyperopt.pyll.base.Apply object at 0x7f3e875daf40&gt;,\n",
       "                                  &#x27;rf__min_weight_fraction_leaf&#x27;: &lt;hyperopt.pyll.base.Apply object at 0x7f3e615f1070&gt;,\n",
       "                                  &#x27;rf__n_estimators&#x27;: &lt;hyperopt.pyll.base.Apply object at 0x7f3e875daf70&gt;},\n",
       "                 refit=&#x27;f1_score&#x27;, scoring=[&#x27;f1_score&#x27;, &#x27;roc_auc_score&#x27;])</pre><b>In a Jupyter environment, please rerun this cell to show the HTML representation or trust the notebook. <br />On GitHub, the HTML representation is unable to render, please try loading this page with nbviewer.org.</b></div><div class=\"sk-container\" hidden><div class=\"sk-item sk-dashed-wrapped\"><div class=\"sk-label-container\"><div class=\"sk-label sk-toggleable\"><input class=\"sk-toggleable__control sk-hidden--visually\" id=\"sk-estimator-id-4\" type=\"checkbox\" ><label for=\"sk-estimator-id-4\" class=\"sk-toggleable__label sk-toggleable__label-arrow\">BayesianSearchCV</label><div class=\"sk-toggleable__content\"><pre>BayesianSearchCV(cv=StratifiedShuffleSplit(n_splits=3, random_state=42, test_size=0.2,\n",
       "            train_size=None),\n",
       "                 estimator=Pipeline(steps=[(&#x27;pca&#x27;, PCA(n_components=12)),\n",
       "                                           (&#x27;rf&#x27;,\n",
       "                                            RandomForestClassifier(max_depth=5,\n",
       "                                                                   min_weight_fraction_leaf=0.28533620290892037,\n",
       "                                                                   n_estimators=867))]),\n",
       "                 n_iter=5,\n",
       "                 parameter_space={&#x27;pca__n_components&#x27;: &lt;hyperopt.pyll.base.Apply object at 0x7f3e615f1220&gt;,\n",
       "                                  &#x27;rf__criterion&#x27;: &lt;hyperopt.pyll.base.Apply object at 0x7f3e615f1160&gt;,\n",
       "                                  &#x27;rf__max_depth&#x27;: &lt;hyperopt.pyll.base.Apply object at 0x7f3e875daf40&gt;,\n",
       "                                  &#x27;rf__min_weight_fraction_leaf&#x27;: &lt;hyperopt.pyll.base.Apply object at 0x7f3e615f1070&gt;,\n",
       "                                  &#x27;rf__n_estimators&#x27;: &lt;hyperopt.pyll.base.Apply object at 0x7f3e875daf70&gt;},\n",
       "                 refit=&#x27;f1_score&#x27;, scoring=[&#x27;f1_score&#x27;, &#x27;roc_auc_score&#x27;])</pre></div></div></div><div class=\"sk-parallel\"><div class=\"sk-parallel-item\"><div class=\"sk-item\"><div class=\"sk-label-container\"><div class=\"sk-label sk-toggleable\"><input class=\"sk-toggleable__control sk-hidden--visually\" id=\"sk-estimator-id-5\" type=\"checkbox\" ><label for=\"sk-estimator-id-5\" class=\"sk-toggleable__label sk-toggleable__label-arrow\">estimator: Pipeline</label><div class=\"sk-toggleable__content\"><pre>Pipeline(steps=[(&#x27;pca&#x27;, PCA(n_components=12)),\n",
       "                (&#x27;rf&#x27;,\n",
       "                 RandomForestClassifier(max_depth=5,\n",
       "                                        min_weight_fraction_leaf=0.28533620290892037,\n",
       "                                        n_estimators=867))])</pre></div></div></div><div class=\"sk-serial\"><div class=\"sk-item\"><div class=\"sk-serial\"><div class=\"sk-item\"><div class=\"sk-estimator sk-toggleable\"><input class=\"sk-toggleable__control sk-hidden--visually\" id=\"sk-estimator-id-6\" type=\"checkbox\" ><label for=\"sk-estimator-id-6\" class=\"sk-toggleable__label sk-toggleable__label-arrow\">PCA</label><div class=\"sk-toggleable__content\"><pre>PCA(n_components=12)</pre></div></div></div><div class=\"sk-item\"><div class=\"sk-estimator sk-toggleable\"><input class=\"sk-toggleable__control sk-hidden--visually\" id=\"sk-estimator-id-7\" type=\"checkbox\" ><label for=\"sk-estimator-id-7\" class=\"sk-toggleable__label sk-toggleable__label-arrow\">RandomForestClassifier</label><div class=\"sk-toggleable__content\"><pre>RandomForestClassifier(max_depth=5,\n",
       "                       min_weight_fraction_leaf=0.28533620290892037,\n",
       "                       n_estimators=867)</pre></div></div></div></div></div></div></div></div></div></div></div></div>"
      ],
      "text/plain": [
       "BayesianSearchCV(cv=StratifiedShuffleSplit(n_splits=3, random_state=42, test_size=0.2,\n",
       "            train_size=None),\n",
       "                 estimator=Pipeline(steps=[('pca', PCA(n_components=12)),\n",
       "                                           ('rf',\n",
       "                                            RandomForestClassifier(max_depth=5,\n",
       "                                                                   min_weight_fraction_leaf=0.28533620290892037,\n",
       "                                                                   n_estimators=867))]),\n",
       "                 n_iter=5,\n",
       "                 parameter_space={'pca__n_components': <hyperopt.pyll.base.Apply object at 0x7f3e615f1220>,\n",
       "                                  'rf__criterion': <hyperopt.pyll.base.Apply object at 0x7f3e615f1160>,\n",
       "                                  'rf__max_depth': <hyperopt.pyll.base.Apply object at 0x7f3e875daf40>,\n",
       "                                  'rf__min_weight_fraction_leaf': <hyperopt.pyll.base.Apply object at 0x7f3e615f1070>,\n",
       "                                  'rf__n_estimators': <hyperopt.pyll.base.Apply object at 0x7f3e875daf70>},\n",
       "                 refit='f1_score', scoring=['f1_score', 'roc_auc_score'])"
      ]
     },
     "execution_count": 17,
     "metadata": {},
     "output_type": "execute_result"
    }
   ],
   "source": [
    "cv = BayesianSearchCV(estimator=pipeline, parameter_space=parameter_space, scoring=[\"f1_score\", \"roc_auc_score\"], refit=\"f1_score\", n_iter=5, cv=cv);\n",
    "cv.fit(X, y)"
   ]
  },
  {
   "cell_type": "markdown",
   "metadata": {},
   "source": [
    "Analyze the results"
   ]
  },
  {
   "cell_type": "code",
   "execution_count": 18,
   "metadata": {},
   "outputs": [
    {
     "data": {
      "text/html": [
       "<div>\n",
       "<style scoped>\n",
       "    .dataframe tbody tr th:only-of-type {\n",
       "        vertical-align: middle;\n",
       "    }\n",
       "\n",
       "    .dataframe tbody tr th {\n",
       "        vertical-align: top;\n",
       "    }\n",
       "\n",
       "    .dataframe thead th {\n",
       "        text-align: right;\n",
       "    }\n",
       "</style>\n",
       "<table border=\"1\" class=\"dataframe\">\n",
       "  <thead>\n",
       "    <tr style=\"text-align: right;\">\n",
       "      <th></th>\n",
       "      <th>parameters</th>\n",
       "      <th>rank_score</th>\n",
       "      <th>average_val_f1_score</th>\n",
       "    </tr>\n",
       "  </thead>\n",
       "  <tbody>\n",
       "    <tr>\n",
       "      <th>0</th>\n",
       "      <td>{'pca__n_components': 12, 'rf__criterion': 'gi...</td>\n",
       "      <td>1</td>\n",
       "      <td>0.241158</td>\n",
       "    </tr>\n",
       "    <tr>\n",
       "      <th>1</th>\n",
       "      <td>{'pca__n_components': 9, 'rf__criterion': 'log...</td>\n",
       "      <td>3</td>\n",
       "      <td>0.276094</td>\n",
       "    </tr>\n",
       "    <tr>\n",
       "      <th>2</th>\n",
       "      <td>{'pca__n_components': 6, 'rf__criterion': 'ent...</td>\n",
       "      <td>5</td>\n",
       "      <td>0.300059</td>\n",
       "    </tr>\n",
       "    <tr>\n",
       "      <th>3</th>\n",
       "      <td>{'pca__n_components': 19, 'rf__criterion': 'en...</td>\n",
       "      <td>2</td>\n",
       "      <td>0.265497</td>\n",
       "    </tr>\n",
       "    <tr>\n",
       "      <th>4</th>\n",
       "      <td>{'pca__n_components': 7, 'rf__criterion': 'ent...</td>\n",
       "      <td>4</td>\n",
       "      <td>0.276094</td>\n",
       "    </tr>\n",
       "  </tbody>\n",
       "</table>\n",
       "</div>"
      ],
      "text/plain": [
       "                                          parameters  rank_score  \\\n",
       "0  {'pca__n_components': 12, 'rf__criterion': 'gi...           1   \n",
       "1  {'pca__n_components': 9, 'rf__criterion': 'log...           3   \n",
       "2  {'pca__n_components': 6, 'rf__criterion': 'ent...           5   \n",
       "3  {'pca__n_components': 19, 'rf__criterion': 'en...           2   \n",
       "4  {'pca__n_components': 7, 'rf__criterion': 'ent...           4   \n",
       "\n",
       "   average_val_f1_score  \n",
       "0              0.241158  \n",
       "1              0.276094  \n",
       "2              0.300059  \n",
       "3              0.265497  \n",
       "4              0.276094  "
      ]
     },
     "execution_count": 18,
     "metadata": {},
     "output_type": "execute_result"
    }
   ],
   "source": [
    "cv_results_ = pd.DataFrame.from_dict(cv.cv_results_)\n",
    "cv_results_[['parameters', 'rank_score', 'average_val_f1_score']]"
   ]
  },
  {
   "cell_type": "markdown",
   "metadata": {},
   "source": [
    "Check if the best estimator is the same as the estimator with the best parameters."
   ]
  },
  {
   "cell_type": "code",
   "execution_count": 19,
   "metadata": {},
   "outputs": [],
   "source": [
    "assert cv.best_params_ == cv_results_.query(\"rank_score == 1\")['parameters'].values[0]"
   ]
  },
  {
   "cell_type": "markdown",
   "metadata": {},
   "source": [
    "## Benchmark with Scikit-learn's RandomizedSearchCV"
   ]
  },
  {
   "cell_type": "code",
   "execution_count": 28,
   "metadata": {},
   "outputs": [],
   "source": [
    "parameters = {\n",
    "    'n_estimators': getattr(ss, 'randint')(100, 1000),\n",
    "    'max_depth': getattr(ss, 'randint')(1, 5),\n",
    "    'min_weight_fraction_leaf':  getattr(ss, 'uniform')(0, 0.5),\n",
    "    'criterion': ['gini', 'entropy', 'log_loss'],\n",
    "            }"
   ]
  },
  {
   "cell_type": "code",
   "execution_count": 29,
   "metadata": {},
   "outputs": [],
   "source": [
    "X, y = load_iris(return_X_y=True)\n",
    "X = X[:, :2]\n",
    "X = X[y < 2]\n",
    "y = y[y < 2]"
   ]
  },
  {
   "cell_type": "code",
   "execution_count": 30,
   "metadata": {},
   "outputs": [
    {
     "data": {
      "text/html": [
       "<style>#sk-container-id-3 {color: black;background-color: white;}#sk-container-id-3 pre{padding: 0;}#sk-container-id-3 div.sk-toggleable {background-color: white;}#sk-container-id-3 label.sk-toggleable__label {cursor: pointer;display: block;width: 100%;margin-bottom: 0;padding: 0.3em;box-sizing: border-box;text-align: center;}#sk-container-id-3 label.sk-toggleable__label-arrow:before {content: \"▸\";float: left;margin-right: 0.25em;color: #696969;}#sk-container-id-3 label.sk-toggleable__label-arrow:hover:before {color: black;}#sk-container-id-3 div.sk-estimator:hover label.sk-toggleable__label-arrow:before {color: black;}#sk-container-id-3 div.sk-toggleable__content {max-height: 0;max-width: 0;overflow: hidden;text-align: left;background-color: #f0f8ff;}#sk-container-id-3 div.sk-toggleable__content pre {margin: 0.2em;color: black;border-radius: 0.25em;background-color: #f0f8ff;}#sk-container-id-3 input.sk-toggleable__control:checked~div.sk-toggleable__content {max-height: 200px;max-width: 100%;overflow: auto;}#sk-container-id-3 input.sk-toggleable__control:checked~label.sk-toggleable__label-arrow:before {content: \"▾\";}#sk-container-id-3 div.sk-estimator input.sk-toggleable__control:checked~label.sk-toggleable__label {background-color: #d4ebff;}#sk-container-id-3 div.sk-label input.sk-toggleable__control:checked~label.sk-toggleable__label {background-color: #d4ebff;}#sk-container-id-3 input.sk-hidden--visually {border: 0;clip: rect(1px 1px 1px 1px);clip: rect(1px, 1px, 1px, 1px);height: 1px;margin: -1px;overflow: hidden;padding: 0;position: absolute;width: 1px;}#sk-container-id-3 div.sk-estimator {font-family: monospace;background-color: #f0f8ff;border: 1px dotted black;border-radius: 0.25em;box-sizing: border-box;margin-bottom: 0.5em;}#sk-container-id-3 div.sk-estimator:hover {background-color: #d4ebff;}#sk-container-id-3 div.sk-parallel-item::after {content: \"\";width: 100%;border-bottom: 1px solid gray;flex-grow: 1;}#sk-container-id-3 div.sk-label:hover label.sk-toggleable__label {background-color: #d4ebff;}#sk-container-id-3 div.sk-serial::before {content: \"\";position: absolute;border-left: 1px solid gray;box-sizing: border-box;top: 0;bottom: 0;left: 50%;z-index: 0;}#sk-container-id-3 div.sk-serial {display: flex;flex-direction: column;align-items: center;background-color: white;padding-right: 0.2em;padding-left: 0.2em;position: relative;}#sk-container-id-3 div.sk-item {position: relative;z-index: 1;}#sk-container-id-3 div.sk-parallel {display: flex;align-items: stretch;justify-content: center;background-color: white;position: relative;}#sk-container-id-3 div.sk-item::before, #sk-container-id-3 div.sk-parallel-item::before {content: \"\";position: absolute;border-left: 1px solid gray;box-sizing: border-box;top: 0;bottom: 0;left: 50%;z-index: -1;}#sk-container-id-3 div.sk-parallel-item {display: flex;flex-direction: column;z-index: 1;position: relative;background-color: white;}#sk-container-id-3 div.sk-parallel-item:first-child::after {align-self: flex-end;width: 50%;}#sk-container-id-3 div.sk-parallel-item:last-child::after {align-self: flex-start;width: 50%;}#sk-container-id-3 div.sk-parallel-item:only-child::after {width: 0;}#sk-container-id-3 div.sk-dashed-wrapped {border: 1px dashed gray;margin: 0 0.4em 0.5em 0.4em;box-sizing: border-box;padding-bottom: 0.4em;background-color: white;}#sk-container-id-3 div.sk-label label {font-family: monospace;font-weight: bold;display: inline-block;line-height: 1.2em;}#sk-container-id-3 div.sk-label-container {text-align: center;}#sk-container-id-3 div.sk-container {/* jupyter's `normalize.less` sets `[hidden] { display: none; }` but bootstrap.min.css set `[hidden] { display: none !important; }` so we also need the `!important` here to be able to override the default hidden behavior on the sphinx rendered scikit-learn.org. See: https://github.com/scikit-learn/scikit-learn/issues/21755 */display: inline-block !important;position: relative;}#sk-container-id-3 div.sk-text-repr-fallback {display: none;}</style><div id=\"sk-container-id-3\" class=\"sk-top-container\"><div class=\"sk-text-repr-fallback\"><pre>RandomizedSearchCV(cv=StratifiedShuffleSplit(n_splits=3, random_state=42, test_size=0.2,\n",
       "            train_size=None),\n",
       "                   estimator=RandomForestClassifier(), n_iter=5,\n",
       "                   param_distributions={&#x27;criterion&#x27;: [&#x27;gini&#x27;, &#x27;entropy&#x27;,\n",
       "                                                      &#x27;log_loss&#x27;],\n",
       "                                        &#x27;max_depth&#x27;: &lt;scipy.stats._distn_infrastructure.rv_discrete_frozen object at 0x7f3e60faa040&gt;,\n",
       "                                        &#x27;min_weight_fraction_leaf&#x27;: &lt;scipy.stats._distn_infrastructure.rv_continuous_frozen object at 0x7f3e6173c2e0&gt;,\n",
       "                                        &#x27;n_estimators&#x27;: &lt;scipy.stats._distn_infrastructure.rv_discrete_frozen object at 0x7f3e61000a60&gt;},\n",
       "                   refit=&#x27;f1&#x27;, scoring=[&#x27;f1&#x27;, &#x27;roc_auc&#x27;])</pre><b>In a Jupyter environment, please rerun this cell to show the HTML representation or trust the notebook. <br />On GitHub, the HTML representation is unable to render, please try loading this page with nbviewer.org.</b></div><div class=\"sk-container\" hidden><div class=\"sk-item sk-dashed-wrapped\"><div class=\"sk-label-container\"><div class=\"sk-label sk-toggleable\"><input class=\"sk-toggleable__control sk-hidden--visually\" id=\"sk-estimator-id-8\" type=\"checkbox\" ><label for=\"sk-estimator-id-8\" class=\"sk-toggleable__label sk-toggleable__label-arrow\">RandomizedSearchCV</label><div class=\"sk-toggleable__content\"><pre>RandomizedSearchCV(cv=StratifiedShuffleSplit(n_splits=3, random_state=42, test_size=0.2,\n",
       "            train_size=None),\n",
       "                   estimator=RandomForestClassifier(), n_iter=5,\n",
       "                   param_distributions={&#x27;criterion&#x27;: [&#x27;gini&#x27;, &#x27;entropy&#x27;,\n",
       "                                                      &#x27;log_loss&#x27;],\n",
       "                                        &#x27;max_depth&#x27;: &lt;scipy.stats._distn_infrastructure.rv_discrete_frozen object at 0x7f3e60faa040&gt;,\n",
       "                                        &#x27;min_weight_fraction_leaf&#x27;: &lt;scipy.stats._distn_infrastructure.rv_continuous_frozen object at 0x7f3e6173c2e0&gt;,\n",
       "                                        &#x27;n_estimators&#x27;: &lt;scipy.stats._distn_infrastructure.rv_discrete_frozen object at 0x7f3e61000a60&gt;},\n",
       "                   refit=&#x27;f1&#x27;, scoring=[&#x27;f1&#x27;, &#x27;roc_auc&#x27;])</pre></div></div></div><div class=\"sk-parallel\"><div class=\"sk-parallel-item\"><div class=\"sk-item\"><div class=\"sk-label-container\"><div class=\"sk-label sk-toggleable\"><input class=\"sk-toggleable__control sk-hidden--visually\" id=\"sk-estimator-id-9\" type=\"checkbox\" ><label for=\"sk-estimator-id-9\" class=\"sk-toggleable__label sk-toggleable__label-arrow\">estimator: RandomForestClassifier</label><div class=\"sk-toggleable__content\"><pre>RandomForestClassifier()</pre></div></div></div><div class=\"sk-serial\"><div class=\"sk-item\"><div class=\"sk-estimator sk-toggleable\"><input class=\"sk-toggleable__control sk-hidden--visually\" id=\"sk-estimator-id-10\" type=\"checkbox\" ><label for=\"sk-estimator-id-10\" class=\"sk-toggleable__label sk-toggleable__label-arrow\">RandomForestClassifier</label><div class=\"sk-toggleable__content\"><pre>RandomForestClassifier()</pre></div></div></div></div></div></div></div></div></div></div>"
      ],
      "text/plain": [
       "RandomizedSearchCV(cv=StratifiedShuffleSplit(n_splits=3, random_state=42, test_size=0.2,\n",
       "            train_size=None),\n",
       "                   estimator=RandomForestClassifier(), n_iter=5,\n",
       "                   param_distributions={'criterion': ['gini', 'entropy',\n",
       "                                                      'log_loss'],\n",
       "                                        'max_depth': <scipy.stats._distn_infrastructure.rv_discrete_frozen object at 0x7f3e60faa040>,\n",
       "                                        'min_weight_fraction_leaf': <scipy.stats._distn_infrastructure.rv_continuous_frozen object at 0x7f3e6173c2e0>,\n",
       "                                        'n_estimators': <scipy.stats._distn_infrastructure.rv_discrete_frozen object at 0x7f3e61000a60>},\n",
       "                   refit='f1', scoring=['f1', 'roc_auc'])"
      ]
     },
     "execution_count": 30,
     "metadata": {},
     "output_type": "execute_result"
    }
   ],
   "source": [
    "estimator = RandomForestClassifier()\n",
    "cv = StratifiedShuffleSplit(n_splits=3, test_size=0.2, random_state=42)\n",
    "rs = RandomizedSearchCV(estimator=estimator, param_distributions=parameters, scoring=[\"f1\", \"roc_auc\"], refit=\"f1\", n_iter=5, cv=cv);\n",
    "rs.fit(X, y)"
   ]
  },
  {
   "cell_type": "code",
   "execution_count": 32,
   "metadata": {},
   "outputs": [
    {
     "data": {
      "text/html": [
       "<div>\n",
       "<style scoped>\n",
       "    .dataframe tbody tr th:only-of-type {\n",
       "        vertical-align: middle;\n",
       "    }\n",
       "\n",
       "    .dataframe tbody tr th {\n",
       "        vertical-align: top;\n",
       "    }\n",
       "\n",
       "    .dataframe thead th {\n",
       "        text-align: right;\n",
       "    }\n",
       "</style>\n",
       "<table border=\"1\" class=\"dataframe\">\n",
       "  <thead>\n",
       "    <tr style=\"text-align: right;\">\n",
       "      <th></th>\n",
       "      <th>mean_fit_time</th>\n",
       "      <th>std_fit_time</th>\n",
       "      <th>mean_score_time</th>\n",
       "      <th>std_score_time</th>\n",
       "      <th>param_criterion</th>\n",
       "      <th>param_max_depth</th>\n",
       "      <th>param_min_weight_fraction_leaf</th>\n",
       "      <th>param_n_estimators</th>\n",
       "      <th>params</th>\n",
       "      <th>split0_test_f1</th>\n",
       "      <th>...</th>\n",
       "      <th>split2_test_f1</th>\n",
       "      <th>mean_test_f1</th>\n",
       "      <th>std_test_f1</th>\n",
       "      <th>rank_test_f1</th>\n",
       "      <th>split0_test_roc_auc</th>\n",
       "      <th>split1_test_roc_auc</th>\n",
       "      <th>split2_test_roc_auc</th>\n",
       "      <th>mean_test_roc_auc</th>\n",
       "      <th>std_test_roc_auc</th>\n",
       "      <th>rank_test_roc_auc</th>\n",
       "    </tr>\n",
       "  </thead>\n",
       "  <tbody>\n",
       "    <tr>\n",
       "      <th>0</th>\n",
       "      <td>0.498771</td>\n",
       "      <td>0.095643</td>\n",
       "      <td>0.057616</td>\n",
       "      <td>0.013807</td>\n",
       "      <td>gini</td>\n",
       "      <td>2</td>\n",
       "      <td>0.259515</td>\n",
       "      <td>259</td>\n",
       "      <td>{'criterion': 'gini', 'max_depth': 2, 'min_wei...</td>\n",
       "      <td>0.736842</td>\n",
       "      <td>...</td>\n",
       "      <td>0.869565</td>\n",
       "      <td>0.785469</td>\n",
       "      <td>0.059707</td>\n",
       "      <td>5</td>\n",
       "      <td>0.94</td>\n",
       "      <td>0.980</td>\n",
       "      <td>1.0</td>\n",
       "      <td>0.973333</td>\n",
       "      <td>0.024944</td>\n",
       "      <td>2</td>\n",
       "    </tr>\n",
       "    <tr>\n",
       "      <th>1</th>\n",
       "      <td>0.695296</td>\n",
       "      <td>0.010614</td>\n",
       "      <td>0.079006</td>\n",
       "      <td>0.000595</td>\n",
       "      <td>log_loss</td>\n",
       "      <td>4</td>\n",
       "      <td>0.443288</td>\n",
       "      <td>455</td>\n",
       "      <td>{'criterion': 'log_loss', 'max_depth': 4, 'min...</td>\n",
       "      <td>0.736842</td>\n",
       "      <td>...</td>\n",
       "      <td>0.909091</td>\n",
       "      <td>0.798644</td>\n",
       "      <td>0.078282</td>\n",
       "      <td>4</td>\n",
       "      <td>0.93</td>\n",
       "      <td>0.990</td>\n",
       "      <td>1.0</td>\n",
       "      <td>0.973333</td>\n",
       "      <td>0.030912</td>\n",
       "      <td>2</td>\n",
       "    </tr>\n",
       "    <tr>\n",
       "      <th>2</th>\n",
       "      <td>1.191669</td>\n",
       "      <td>0.206461</td>\n",
       "      <td>0.108912</td>\n",
       "      <td>0.001227</td>\n",
       "      <td>entropy</td>\n",
       "      <td>3</td>\n",
       "      <td>0.034194</td>\n",
       "      <td>627</td>\n",
       "      <td>{'criterion': 'entropy', 'max_depth': 3, 'min_...</td>\n",
       "      <td>0.842105</td>\n",
       "      <td>...</td>\n",
       "      <td>0.952381</td>\n",
       "      <td>0.913952</td>\n",
       "      <td>0.050844</td>\n",
       "      <td>1</td>\n",
       "      <td>0.97</td>\n",
       "      <td>0.990</td>\n",
       "      <td>1.0</td>\n",
       "      <td>0.986667</td>\n",
       "      <td>0.012472</td>\n",
       "      <td>1</td>\n",
       "    </tr>\n",
       "    <tr>\n",
       "      <th>3</th>\n",
       "      <td>1.202687</td>\n",
       "      <td>0.033928</td>\n",
       "      <td>0.138497</td>\n",
       "      <td>0.003269</td>\n",
       "      <td>entropy</td>\n",
       "      <td>2</td>\n",
       "      <td>0.492667</td>\n",
       "      <td>789</td>\n",
       "      <td>{'criterion': 'entropy', 'max_depth': 2, 'min_...</td>\n",
       "      <td>0.800000</td>\n",
       "      <td>...</td>\n",
       "      <td>0.909091</td>\n",
       "      <td>0.872727</td>\n",
       "      <td>0.051426</td>\n",
       "      <td>2</td>\n",
       "      <td>0.90</td>\n",
       "      <td>0.975</td>\n",
       "      <td>1.0</td>\n",
       "      <td>0.958333</td>\n",
       "      <td>0.042492</td>\n",
       "      <td>5</td>\n",
       "    </tr>\n",
       "    <tr>\n",
       "      <th>4</th>\n",
       "      <td>0.598624</td>\n",
       "      <td>0.003122</td>\n",
       "      <td>0.069966</td>\n",
       "      <td>0.000365</td>\n",
       "      <td>entropy</td>\n",
       "      <td>1</td>\n",
       "      <td>0.455561</td>\n",
       "      <td>401</td>\n",
       "      <td>{'criterion': 'entropy', 'max_depth': 1, 'min_...</td>\n",
       "      <td>0.736842</td>\n",
       "      <td>...</td>\n",
       "      <td>0.909091</td>\n",
       "      <td>0.834359</td>\n",
       "      <td>0.072142</td>\n",
       "      <td>3</td>\n",
       "      <td>0.92</td>\n",
       "      <td>0.975</td>\n",
       "      <td>1.0</td>\n",
       "      <td>0.965000</td>\n",
       "      <td>0.033417</td>\n",
       "      <td>4</td>\n",
       "    </tr>\n",
       "  </tbody>\n",
       "</table>\n",
       "<p>5 rows × 21 columns</p>\n",
       "</div>"
      ],
      "text/plain": [
       "   mean_fit_time  std_fit_time  mean_score_time  std_score_time  \\\n",
       "0       0.498771      0.095643         0.057616        0.013807   \n",
       "1       0.695296      0.010614         0.079006        0.000595   \n",
       "2       1.191669      0.206461         0.108912        0.001227   \n",
       "3       1.202687      0.033928         0.138497        0.003269   \n",
       "4       0.598624      0.003122         0.069966        0.000365   \n",
       "\n",
       "  param_criterion param_max_depth param_min_weight_fraction_leaf  \\\n",
       "0            gini               2                       0.259515   \n",
       "1        log_loss               4                       0.443288   \n",
       "2         entropy               3                       0.034194   \n",
       "3         entropy               2                       0.492667   \n",
       "4         entropy               1                       0.455561   \n",
       "\n",
       "  param_n_estimators                                             params  \\\n",
       "0                259  {'criterion': 'gini', 'max_depth': 2, 'min_wei...   \n",
       "1                455  {'criterion': 'log_loss', 'max_depth': 4, 'min...   \n",
       "2                627  {'criterion': 'entropy', 'max_depth': 3, 'min_...   \n",
       "3                789  {'criterion': 'entropy', 'max_depth': 2, 'min_...   \n",
       "4                401  {'criterion': 'entropy', 'max_depth': 1, 'min_...   \n",
       "\n",
       "   split0_test_f1  ...  split2_test_f1  mean_test_f1  std_test_f1  \\\n",
       "0        0.736842  ...        0.869565      0.785469     0.059707   \n",
       "1        0.736842  ...        0.909091      0.798644     0.078282   \n",
       "2        0.842105  ...        0.952381      0.913952     0.050844   \n",
       "3        0.800000  ...        0.909091      0.872727     0.051426   \n",
       "4        0.736842  ...        0.909091      0.834359     0.072142   \n",
       "\n",
       "   rank_test_f1  split0_test_roc_auc  split1_test_roc_auc  \\\n",
       "0             5                 0.94                0.980   \n",
       "1             4                 0.93                0.990   \n",
       "2             1                 0.97                0.990   \n",
       "3             2                 0.90                0.975   \n",
       "4             3                 0.92                0.975   \n",
       "\n",
       "   split2_test_roc_auc  mean_test_roc_auc  std_test_roc_auc  rank_test_roc_auc  \n",
       "0                  1.0           0.973333          0.024944                  2  \n",
       "1                  1.0           0.973333          0.030912                  2  \n",
       "2                  1.0           0.986667          0.012472                  1  \n",
       "3                  1.0           0.958333          0.042492                  5  \n",
       "4                  1.0           0.965000          0.033417                  4  \n",
       "\n",
       "[5 rows x 21 columns]"
      ]
     },
     "execution_count": 32,
     "metadata": {},
     "output_type": "execute_result"
    }
   ],
   "source": [
    "pd.DataFrame.from_dict(rs.cv_results_)"
   ]
  },
  {
   "cell_type": "code",
   "execution_count": null,
   "metadata": {},
   "outputs": [],
   "source": []
  }
 ],
 "metadata": {
  "kernelspec": {
   "display_name": "Python 3 (ipykernel)",
   "language": "python",
   "name": "python3"
  },
  "language_info": {
   "codemirror_mode": {
    "name": "ipython",
    "version": 3
   },
   "file_extension": ".py",
   "mimetype": "text/x-python",
   "name": "python",
   "nbconvert_exporter": "python",
   "pygments_lexer": "ipython3",
   "version": "3.9.16"
  },
  "orig_nbformat": 4,
  "vscode": {
   "interpreter": {
    "hash": "0c42e9c60d2ee6f0d34751cefa5ab9113972281a76f91532d1ebfeec279e1ad8"
   }
  }
 },
 "nbformat": 4,
 "nbformat_minor": 2
}
